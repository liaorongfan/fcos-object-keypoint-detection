{
 "cells": [
  {
   "cell_type": "markdown",
   "metadata": {},
   "source": [
    "# FCOS: anchor free"
   ]
  },
  {
   "cell_type": "markdown",
   "metadata": {},
   "source": [
    "## Backbone \n",
    "<img src=\"imgs/backbone.png\" width=\"700\" height=\"400\" align=\"bottom\">"
   ]
  },
  {
   "cell_type": "markdown",
   "metadata": {},
   "source": [
    "### ResNet50\n",
    "\n",
    "<img src=\"imgs/stage1.jpg\" width=\"260\" height=\"800\" align=\"left\"/>\n",
    "<img src=\"imgs/stage2.jpg\" width=\"255\" height=\"750\" align=\"left\"/>\n",
    "<img src=\"imgs/stage3.jpg\" width=\"180\" height=\"750\" align=\"left\"/>\n",
    "<img src=\"imgs/stage4.jpg\" width=\"280\" height=\"750\" align=\"left\"/>\n",
    "<img src=\"imgs/shortcut.png\" width=\"400\" height=\"600\" align=\"\"/>\n",
    "<img src=\"imgs/resnet50.png\" width=\"800\" height=\"400\" align=\"bottom\"/>"
   ]
  },
  {
   "cell_type": "code",
   "execution_count": 1,
   "metadata": {
    "code_folding": [
     6,
     11,
     17,
     59,
     129,
     135,
     148
    ],
    "hide_input": true
   },
   "outputs": [],
   "source": [
    "import torch\n",
    "import torch.nn as nn\n",
    "import torch.utils.model_zoo as model_zoo\n",
    "import torch.nn.functional as F\n",
    "import math\n",
    "\n",
    "model_urls = {\n",
    "    'resnet50': 'https://download.pytorch.org/models/resnet50-19c8e357.pth',\n",
    "}\n",
    "\n",
    "\n",
    "def conv3x3(in_planes, out_planes, stride=1):\n",
    "    \"\"\"3x3 convolution with padding\"\"\"\n",
    "    return nn.Conv2d(in_planes, out_planes, kernel_size=3, stride=stride,\n",
    "                     padding=1, bias=False)\n",
    "\n",
    "\n",
    "class Bottleneck(nn.Module):\n",
    "    # ResNet-B\n",
    "    expansion = 4\n",
    "\n",
    "    def __init__(self, inplanes, planes, stride=1, downsample=None):\n",
    "        super(Bottleneck, self).__init__()\n",
    "        self.conv1 = nn.Conv2d(inplanes, planes, kernel_size=1, bias=False)\n",
    "        self.bn1 = nn.BatchNorm2d(planes)\n",
    "        self.conv2 = nn.Conv2d(planes, planes, kernel_size=3, stride=stride,\n",
    "                               padding=1, bias=False)\n",
    "        self.bn2 = nn.BatchNorm2d(planes)\n",
    "        self.conv3 = nn.Conv2d(planes, planes * 4, kernel_size=1, bias=False)\n",
    "        self.bn3 = nn.BatchNorm2d(planes * 4)\n",
    "        self.relu = nn.ReLU(inplace=True)\n",
    "        self.downsample = downsample\n",
    "        self.stride = stride\n",
    "\n",
    "    def forward(self, x):\n",
    "        residual = x\n",
    "\n",
    "        out = self.conv1(x)\n",
    "        out = self.bn1(out)\n",
    "        out = self.relu(out)\n",
    "\n",
    "        out = self.conv2(out)\n",
    "        out = self.bn2(out)\n",
    "        out = self.relu(out)\n",
    "\n",
    "        out = self.conv3(out)\n",
    "        out = self.bn3(out)\n",
    "\n",
    "        if self.downsample is not None:\n",
    "            residual = self.downsample(x)\n",
    "\n",
    "        out += residual\n",
    "        out = self.relu(out)\n",
    "\n",
    "        return out\n",
    "\n",
    "\n",
    "class ResNet(nn.Module):\n",
    "\n",
    "    def __init__(self, block, layers, num_classes=1000, if_include_top=True):\n",
    "        self.inplanes = 64\n",
    "        super(ResNet, self).__init__()\n",
    "        # 7*7 -- maxpool\n",
    "        self.conv1 = nn.Conv2d(3, 64, kernel_size=7, stride=2, padding=3, bias=False)\n",
    "        self.bn1 = nn.BatchNorm2d(64)\n",
    "        self.relu = nn.ReLU(inplace=True)\n",
    "        self.maxpool = nn.MaxPool2d(kernel_size=3, stride=2, padding=1)\n",
    "        # stage1\n",
    "        self.layer1 = self._make_layer(block, 64, layers[0])\n",
    "        # stage2\n",
    "        self.layer2 = self._make_layer(block, 128, layers[1], stride=2)\n",
    "        # stage3\n",
    "        self.layer3 = self._make_layer(block, 256, layers[2], stride=2)\n",
    "        # stage4\n",
    "        self.layer4 = self._make_layer(block, 512, layers[3], stride=2)\n",
    "        # 平均池化\n",
    "        self.avgpool = nn.AvgPool2d(7, stride=1)\n",
    "        if if_include_top:  # 默认是接全连接层的\n",
    "            self.fc = nn.Linear(512 * block.expansion, num_classes)\n",
    "        self.if_include_top = if_include_top\n",
    "        # 权重初始化\n",
    "        for m in self.modules():\n",
    "            if isinstance(m, nn.Conv2d):\n",
    "                n = m.kernel_size[0] * m.kernel_size[1] * m.out_channels\n",
    "                m.weight.data.normal_(0, math.sqrt(2. / n))\n",
    "            elif isinstance(m, nn.BatchNorm2d):\n",
    "                m.weight.data.fill_(1)\n",
    "                m.bias.data.zero_()\n",
    "\n",
    "    def _make_layer(self, block, planes, blocks, stride=1):\n",
    "        downsample = None\n",
    "        if stride != 1 or self.inplanes != planes * block.expansion:\n",
    "            downsample = nn.Sequential(\n",
    "                nn.Conv2d(self.inplanes, planes * block.expansion,\n",
    "                          kernel_size=1, stride=stride, bias=False),\n",
    "                nn.BatchNorm2d(planes * block.expansion),\n",
    "            )\n",
    "\n",
    "        layers = []\n",
    "        layers.append(block(self.inplanes, planes, stride, downsample))\n",
    "        self.inplanes = planes * block.expansion\n",
    "        for i in range(1, blocks):\n",
    "            layers.append(block(self.inplanes, planes))\n",
    "\n",
    "        return nn.Sequential(*layers)\n",
    "\n",
    "    def forward(self, x):\n",
    "        # 7*7 -- maxpool\n",
    "        x = self.conv1(x)\n",
    "        x = self.bn1(x)\n",
    "        x = self.relu(x)\n",
    "        x = self.maxpool(x) # 1 / 2\n",
    "        # stage1\n",
    "        x = self.layer1(x)  # 1 / 4\n",
    "        # stage2\n",
    "        out3 = self.layer2(x)  # 1 / 8\n",
    "        # stage3\n",
    "        out4 = self.layer3(out3)  # 1 / 16\n",
    "        # stage4\n",
    "        out5 = self.layer4(out4)  #  1 / 32\n",
    "\n",
    "        if self.if_include_top:  # 是不是保留头部的全连接层\n",
    "            x = self.avgpool(out5)\n",
    "            x = x.view(x.size(0), -1)\n",
    "            x = self.fc(x)\n",
    "            return x\n",
    "        else:\n",
    "            return (out3, out4, out5)\n",
    "    \n",
    "    def freeze_bn(self):\n",
    "        for layer in self.modules():\n",
    "            if isinstance(layer, nn.BatchNorm2d):\n",
    "                layer.eval()\n",
    "\n",
    "\n",
    "    def freeze_stages(self, stage):\n",
    "        if stage >= 0:\n",
    "            self.bn1.eval()\n",
    "            for m in [self.conv1, self.bn1]:\n",
    "                for param in m.parameters():\n",
    "                    param.requires_grad = False\n",
    "        for i in range(1, stage + 1):\n",
    "            layer = getattr(self, 'layer{}'.format(i))\n",
    "            layer.eval()\n",
    "            for param in layer.parameters():\n",
    "                param.requires_grad = False\n",
    "\n",
    "\n",
    "def resnet50(pretrained=False, **kwargs):\n",
    "    \"\"\"Constructs a ResNet-50 model.\n",
    "    Args:\n",
    "        pretrained (bool): If True, returns a model pre-trained on ImageNet\n",
    "    \"\"\"\n",
    "    model = ResNet(Bottleneck, [3, 4, 6, 3], if_include_top=False, **kwargs)\n",
    "    if pretrained:\n",
    "        model.load_state_dict(model_zoo.load_url(model_urls['resnet50']))\n",
    "    return model"
   ]
  },
  {
   "cell_type": "code",
   "execution_count": 2,
   "metadata": {},
   "outputs": [],
   "source": [
    "res_net = resnet50()"
   ]
  },
  {
   "cell_type": "code",
   "execution_count": 3,
   "metadata": {
    "scrolled": true
   },
   "outputs": [
    {
     "name": "stdout",
     "output_type": "stream",
     "text": [
      "torch.Size([2, 512, 40, 60])\n",
      "torch.Size([2, 1024, 20, 30])\n",
      "torch.Size([2, 2048, 10, 15])\n"
     ]
    }
   ],
   "source": [
    "x = torch.randn((2,3,320,480))\n",
    "y_res = res_net(x)\n",
    "for i in range(3):\n",
    "    print(y_res[i].shape)"
   ]
  },
  {
   "cell_type": "markdown",
   "metadata": {},
   "source": [
    "### DarkNet19\n",
    "对网络推断速度进行优化时，骨干网络可以考虑替换为更轻便的darknet19\n",
    "<img src=\"imgs/darknet19.png\" width=\"500\" height=\"800\" align=\"center\"/>"
   ]
  },
  {
   "cell_type": "code",
   "execution_count": 4,
   "metadata": {
    "code_folding": []
   },
   "outputs": [],
   "source": [
    "cfg1 = [32, 'M', 64, 'M', 128, 64, 128, 'M', 256, 128, 256]\n",
    "cfg2 = ['M', 512, 256, 512, 256, 512]\n",
    "cfg3 = ['M', 1024, 512, 1024, 512, 1024]\n",
    "\n",
    "def make_layers(cfg, in_channels=3, batch_norm=True, flag=True):\n",
    "    \"\"\"\n",
    "    从配置参数中构建网络\n",
    "    :param cfg:  参数配置\n",
    "    :param in_channels: 输入通道数,RGB彩图为3, 灰度图为1\n",
    "    :param batch_norm:  是否使用批正则化\n",
    "    :return:\n",
    "    \"\"\"\n",
    "    layers = []\n",
    "    #flag = True             # 用于变换卷积核大小,(True选后面的,False选前面的)\n",
    "    in_channels= in_channels\n",
    "    for v in cfg:\n",
    "        if v == 'M':\n",
    "            layers.append(nn.MaxPool2d(kernel_size=2, stride=2))\n",
    "        else:\n",
    "            layers.append(nn.Conv2d(in_channels = in_channels,\n",
    "                                   out_channels= v,\n",
    "                                   kernel_size=(1, 3)[flag],\n",
    "                                   stride=1,\n",
    "                                   padding=(0,1)[flag],\n",
    "                                   bias=False))\n",
    "            if batch_norm:\n",
    "                layers.append(nn.BatchNorm2d(v))\n",
    "            in_channels = v\n",
    "\n",
    "            layers.append(nn.LeakyReLU(negative_slope=0.1, inplace=True))\n",
    "\n",
    "        flag = not flag\n",
    "\n",
    "    return nn.Sequential(*layers)\n",
    "\n",
    "class Darknet19(nn.Module):\n",
    "    \"\"\"\n",
    "    Darknet19 模型\n",
    "    \"\"\"\n",
    "    def __init__(self, in_channels=3, batch_norm=True, pretrained=False):\n",
    "        \"\"\"\n",
    "        模型结构初始化\n",
    "        :param num_classes: 最终分类数       (nums of classification.)\n",
    "        :param in_channels: 输入数据的通道数  (input pic`s channel.)\n",
    "        :param batch_norm:  是否使用正则化    (use batch_norm, True or False;True by default.)\n",
    "        :param pretrained:  是否导入预训练参数 (use the pretrained weight)\n",
    "        \"\"\"\n",
    "        super(Darknet19, self).__init__()\n",
    "        # 调用make_layers 方法搭建网络\n",
    "        # (build the network)\n",
    "        self.block1 = make_layers(cfg1, in_channels=in_channels, batch_norm=batch_norm, flag=True)\n",
    "        self.block2 = make_layers(cfg2, in_channels=cfg1[-1], batch_norm=batch_norm, flag=False)\n",
    "        self.block3 = make_layers(cfg3, in_channels=cfg2[-1], batch_norm=batch_norm, flag=False)\n",
    "        # 导入预训练模型或初始化\n",
    "        if pretrained:\n",
    "            self.load_weight()\n",
    "        else:\n",
    "            self._initialize_weights()\n",
    "\n",
    "    def forward(self, x):\n",
    "        # 前向传播\n",
    "        feature1 = self.block1(x)\n",
    "        feature2 = self.block2(feature1)\n",
    "        feature3 = self.block3(feature2)\n",
    "        return [feature1, feature2, feature3]\n",
    "\n",
    "    def _initialize_weights(self):\n",
    "        for m in self.modules():\n",
    "            if isinstance(m, nn.Conv2d):\n",
    "                nn.init.kaiming_normal_(m.weight, mode='fan_out', nonlinearity='relu')\n",
    "                if m.bias is not None:\n",
    "                    nn.init.constant_(m.bias, 0)\n",
    "            elif isinstance(m, nn.BatchNorm2d):\n",
    "                nn.init.constant_(m.weight, 1)\n",
    "                nn.init.constant_(m.bias, 0)\n",
    "\n",
    "    def load_weight(self):\n",
    "        weight_file = '../weight/darknet19-deepBakSu-e1b3ec1e.pth'\n",
    "        dic = {}\n",
    "        for now_keys, values in zip(self.state_dict().keys(), torch.load(weight_file).values()):\n",
    "            dic[now_keys]=values\n",
    "        self.load_state_dict(dic)"
   ]
  },
  {
   "cell_type": "code",
   "execution_count": 5,
   "metadata": {},
   "outputs": [],
   "source": [
    "darknet = Darknet19()"
   ]
  },
  {
   "cell_type": "code",
   "execution_count": 6,
   "metadata": {},
   "outputs": [
    {
     "name": "stdout",
     "output_type": "stream",
     "text": [
      "torch.Size([2, 256, 40, 60])\n",
      "torch.Size([2, 512, 20, 30])\n",
      "torch.Size([2, 1024, 10, 15])\n"
     ]
    }
   ],
   "source": [
    "x = torch.randn((2,3,320,480))\n",
    "y = darknet(x)\n",
    "for i in range(3):\n",
    "    print(y[i].shape)"
   ]
  },
  {
   "cell_type": "markdown",
   "metadata": {},
   "source": [
    "## FPN\n",
    "<img src=\"imgs/fpn.png\" width=\"700\" height=\"400\" align=\"bottom\">"
   ]
  },
  {
   "cell_type": "code",
   "execution_count": 11,
   "metadata": {
    "code_folding": [],
    "hide_input": false
   },
   "outputs": [],
   "source": [
    "class FPN(nn.Module):\n",
    "    \"\"\"only for resnet50 or darknet19\"\"\"\n",
    "\n",
    "    def __init__(self, features=256, use_p5=True, backbone=\"resnet50\"):\n",
    "        super(FPN, self).__init__()\n",
    "        if backbone == \"resnet50\":\n",
    "            print(\"resnet50 backbone\")\n",
    "            self.prj_5 = nn.Conv2d(2048, features, kernel_size=1)  # 不改变特征图的尺寸\n",
    "            self.prj_4 = nn.Conv2d(1024, features, kernel_size=1)\n",
    "            self.prj_3 = nn.Conv2d(512, features, kernel_size=1)\n",
    "        elif backbone == \"darknet19\":\n",
    "            print(\"darnet19 backbone\")\n",
    "            self.prj_5 = nn.Conv2d(1024, features, kernel_size=1)  # 不改变特征图的尺寸\n",
    "            self.prj_4 = nn.Conv2d(512, features, kernel_size=1)\n",
    "            self.prj_3 = nn.Conv2d(256, features, kernel_size=1)\n",
    "        else:\n",
    "            raise ValueError(\"arg 'backbone' only support 'resnet50' or 'darknet19'\")\n",
    "\n",
    "        self.conv_5 = nn.Conv2d(features, features, kernel_size=3, padding=1)  # 不改变特征图的尺寸\n",
    "        self.conv_4 = nn.Conv2d(features, features, kernel_size=3, padding=1)\n",
    "        self.conv_3 = nn.Conv2d(features, features, kernel_size=3, padding=1)\n",
    "        if use_p5:\n",
    "            self.conv_out6 = nn.Conv2d(features, features, kernel_size=3, padding=1, stride=2)  # 将特征图尺寸缩小一半\n",
    "        else:\n",
    "            if backbone == \"resnet50\":\n",
    "                self.conv_out6 = nn.Conv2d(2048, features, kernel_size=3, padding=1, stride=2)  # 将特征图尺寸缩小一半\n",
    "            elif backbone == \"darknet19\":\n",
    "                self.conv_out6 = nn.Conv2d(1024, features, kernel_size=3, padding=1, stride=2)\n",
    "            \n",
    "        self.conv_out7 = nn.Conv2d(features, features, kernel_size=3, padding=1, stride=2)  # 将特征图尺寸缩小一半\n",
    "        self.use_p5 = use_p5\n",
    "        self.apply(self.init_conv_kaiming)  # 对FPN结构使用凯明初始化\n",
    "\n",
    "    def upsamplelike(self, inputs):  # 将src的尺寸大小，上采样到 target的尺寸\n",
    "        src, target = inputs\n",
    "        return F.interpolate(src, size=(target.shape[2], target.shape[3]),mode='nearest')\n",
    "\n",
    "    def init_conv_kaiming(self, module):\n",
    "        if isinstance(module, nn.Conv2d):  # 判断变量module是不是nn.Conv2d类\n",
    "            nn.init.kaiming_uniform_(module.weight, a=1)\n",
    "            if module.bias is not None:\n",
    "                nn.init.constant_(module.bias, 0)\n",
    "\n",
    "    def forward(self, x):\n",
    "        C3, C4, C5 = x\n",
    "        print('输入特征层维度：', C3.shape, C4.shape, C5.shape, '\\n')\n",
    "        # 1 从backbone到fpn的侧连， 从backbone转换到fpn\n",
    "        P5 = self.prj_5(C5)\n",
    "        P4 = self.prj_4(C4)\n",
    "        P3 = self.prj_3(C3)\n",
    "        # 2 上采样特征融合\n",
    "        P4 = P4 + self.upsamplelike([P5, P4])  # 先将P5上采样到C4大小，再用元素相加的方式进行融合\n",
    "        P3 = P3 + self.upsamplelike([P4, P3])  # 先将P4上采样到C3大小，再用元素相加的方式进行融合\n",
    "\n",
    "        P3 = self.conv_3(P3)  # 融合后再卷积的目的：用卷积操作平滑一下特征图的数值\n",
    "        P4 = self.conv_4(P4)\n",
    "        P5 = self.conv_5(P5)\n",
    "        # 3 fpn下采样\n",
    "        P5 = P5 if self.use_p5 else C5\n",
    "        P6 = self.conv_out6(P5)\n",
    "        P7 = self.conv_out7(F.relu(P6))\n",
    "        return [P3, P4, P5, P6, P7]  # 返回融合后的特征图"
   ]
  },
  {
   "cell_type": "code",
   "execution_count": 12,
   "metadata": {},
   "outputs": [
    {
     "name": "stdout",
     "output_type": "stream",
     "text": [
      "resnet50 backbone\n",
      "输入特征层维度： torch.Size([2, 512, 40, 60]) torch.Size([2, 1024, 20, 30]) torch.Size([2, 2048, 10, 15]) \n",
      "\n",
      "torch.Size([2, 256, 40, 60])\n",
      "torch.Size([2, 256, 20, 30])\n",
      "torch.Size([2, 256, 10, 15])\n",
      "torch.Size([2, 256, 5, 8])\n",
      "torch.Size([2, 256, 3, 4])\n"
     ]
    }
   ],
   "source": [
    "fpn = FPN()\n",
    "out_fpn = fpn(y_res)\n",
    "for i in range(len(out_fpn)):\n",
    "    print(out_fpn[i].shape)"
   ]
  },
  {
   "cell_type": "markdown",
   "metadata": {},
   "source": [
    "## Head\n",
    "<img src=\"imgs/head.png\" width=\"700\" height=\"400\" align=\"bottom\">"
   ]
  },
  {
   "cell_type": "markdown",
   "metadata": {},
   "source": [
    "**[nn.parameter](https://www.jianshu.com/p/d8b77cc02410)**\n",
    "\n",
    "可以把这个函数理解为类型转换函数，将一个不可训练的数据类型Tensor转换成可以训练的数据类型parameter，并将这个parameter绑定到这个module里面"
   ]
  },
  {
   "cell_type": "code",
   "execution_count": 28,
   "metadata": {
    "code_folding": [
     0
    ]
   },
   "outputs": [],
   "source": [
    "class ScaleExp(nn.Module):\n",
    "    '''定义一个指数放缩的模块'''\n",
    "    def __init__(self, init_value=1.0):\n",
    "        super(ScaleExp, self).__init__()\n",
    "        self.scale = nn.Parameter(torch.tensor([init_value], dtype=torch.float32))\n",
    "\n",
    "    def forward(self, x):\n",
    "        return torch.exp(x * self.scale)  # 乘一个 可以训练的 缩放因子 scale"
   ]
  },
  {
   "cell_type": "code",
   "execution_count": 52,
   "metadata": {},
   "outputs": [],
   "source": [
    "def prt(*x):\n",
    "    print(*x)\n",
    "    pass"
   ]
  },
  {
   "cell_type": "code",
   "execution_count": 53,
   "metadata": {
    "code_folding": [
     0
    ]
   },
   "outputs": [],
   "source": [
    "class ClsCntRegHead(nn.Module):\n",
    "    \"\"\"检测分枝\"\"\"\n",
    "    def __init__(self, in_channel, class_num, GN=True, cnt_on_reg=True, prior=0.01):\n",
    "        super(ClsCntRegHead, self).__init__()\n",
    "        \n",
    "        self.prior = prior\n",
    "        self.class_num = class_num\n",
    "        self.cnt_on_reg = cnt_on_reg\n",
    "        \n",
    "        # 1 ================================= 从fpn到head的侧连 ==================================\n",
    "        cls_branch = []\n",
    "        reg_branch = []\n",
    "        for i in range(4):\n",
    "            # cls_branch： conv--gn--relu  这里的卷积都不改变图像尺寸\n",
    "            cls_branch.append(nn.Conv2d(in_channel, in_channel, kernel_size=3, padding=1, bias=True))\n",
    "            if GN:\n",
    "                cls_branch.append(nn.GroupNorm(32, in_channel))\n",
    "            cls_branch.append(nn.ReLU(True))\n",
    "            # reg_branch： conv--gn--relu  这里的卷积都不改变图像尺寸\n",
    "            reg_branch.append(nn.Conv2d(in_channel, in_channel, kernel_size=3, padding=1, bias=True))\n",
    "            if GN:\n",
    "                reg_branch.append(nn.GroupNorm(32, in_channel))\n",
    "            reg_branch.append(nn.ReLU(True))\n",
    "        \n",
    "        # 1.1 分类网络路径 bypass\n",
    "        self.cls_conv = nn.Sequential(*cls_branch)\n",
    "        # 1.2 回归网络路径 bypass\n",
    "        self.reg_conv = nn.Sequential(*reg_branch)\n",
    "        prt('Bypasses of the detection head:')\n",
    "        prt(self.cls_conv, '\\n')\n",
    "        prt(self.reg_conv)\n",
    "        # ===========================================================================================\n",
    "        \n",
    "        \n",
    "        # 2 ================================ 网络输出 ===============================\n",
    "        # 2.1 网络分类路径输出\n",
    "        self.cls_logits = nn.Conv2d(in_channel, class_num, kernel_size=3, padding=1)\n",
    "        # 2.2 网络回归路径输出\n",
    "        self.reg_pred = nn.Conv2d(in_channel, 4, kernel_size=3, padding=1)\n",
    "        # 2.3 目标中心输出\n",
    "        self.cnt_logits = nn.Conv2d(in_channel, 1, kernel_size=3, padding=1)\n",
    "        # ===========================================================================\n",
    "        \n",
    "        # 3 网络参数初始化\n",
    "        self.apply(self.init_conv_RandomNormal)\n",
    "        nn.init.constant_(self.cls_logits.bias, - math.log((1 - prior) / prior))\n",
    "        \n",
    "        # 4 实例化五个缩放层\n",
    "        self.scale_exp = nn.ModuleList([ScaleExp(1.0) for _ in range(5)])  \n",
    "\n",
    "    def init_conv_RandomNormal(self, module, std=0.01):\n",
    "        if isinstance(module, nn.Conv2d):\n",
    "            nn.init.normal_(module.weight, std=std)\n",
    "            if module.bias is not None:\n",
    "                nn.init.constant_(module.bias, 0)\n",
    "\n",
    "    def forward(self, inputs):\n",
    "        \"\"\"inputs:[P3~P7]\"\"\"\n",
    "        cls_logits = []\n",
    "        cnt_logits = []\n",
    "        reg_preds = []\n",
    "        for index, P in enumerate(inputs):\n",
    "            # 所有的p层都经过cls_conv(),所以这里，模块cls_conv()的参数是共享的\n",
    "            cls_conv_out = self.cls_conv(P)  \n",
    "            # 所有的p层都经过reg_conv(),所以这里，模块reg_conv()的参数是共享的\n",
    "            reg_conv_out = self.reg_conv(P)  \n",
    "\n",
    "            cls_logits.append(self.cls_logits(cls_conv_out))\n",
    "            \n",
    "            if not self.cnt_on_reg:  # 中心回归放在哪一个分支上，是cls_conv_out，还是reg_conv_out\n",
    "                cnt_logits.append(self.cnt_logits(cls_conv_out))  \n",
    "            else:\n",
    "                cnt_logits.append(self.cnt_logits(reg_conv_out))  # 中心回归默认放在 reg_conv_out分支\n",
    "                \n",
    "            reg_preds.append(self.scale_exp[index](self.reg_pred(reg_conv_out)))\n",
    "        return cls_logits, cnt_logits, reg_preds  # 每个返回的list都有5个分量 对应P3-P7的卷积输出"
   ]
  },
  {
   "cell_type": "code",
   "execution_count": 58,
   "metadata": {},
   "outputs": [
    {
     "name": "stdout",
     "output_type": "stream",
     "text": [
      "Bypasses of the detection head:\n",
      "Sequential(\n",
      "  (0): Conv2d(256, 256, kernel_size=(3, 3), stride=(1, 1), padding=(1, 1))\n",
      "  (1): GroupNorm(32, 256, eps=1e-05, affine=True)\n",
      "  (2): ReLU(inplace)\n",
      "  (3): Conv2d(256, 256, kernel_size=(3, 3), stride=(1, 1), padding=(1, 1))\n",
      "  (4): GroupNorm(32, 256, eps=1e-05, affine=True)\n",
      "  (5): ReLU(inplace)\n",
      "  (6): Conv2d(256, 256, kernel_size=(3, 3), stride=(1, 1), padding=(1, 1))\n",
      "  (7): GroupNorm(32, 256, eps=1e-05, affine=True)\n",
      "  (8): ReLU(inplace)\n",
      "  (9): Conv2d(256, 256, kernel_size=(3, 3), stride=(1, 1), padding=(1, 1))\n",
      "  (10): GroupNorm(32, 256, eps=1e-05, affine=True)\n",
      "  (11): ReLU(inplace)\n",
      ") \n",
      "\n",
      "Sequential(\n",
      "  (0): Conv2d(256, 256, kernel_size=(3, 3), stride=(1, 1), padding=(1, 1))\n",
      "  (1): GroupNorm(32, 256, eps=1e-05, affine=True)\n",
      "  (2): ReLU(inplace)\n",
      "  (3): Conv2d(256, 256, kernel_size=(3, 3), stride=(1, 1), padding=(1, 1))\n",
      "  (4): GroupNorm(32, 256, eps=1e-05, affine=True)\n",
      "  (5): ReLU(inplace)\n",
      "  (6): Conv2d(256, 256, kernel_size=(3, 3), stride=(1, 1), padding=(1, 1))\n",
      "  (7): GroupNorm(32, 256, eps=1e-05, affine=True)\n",
      "  (8): ReLU(inplace)\n",
      "  (9): Conv2d(256, 256, kernel_size=(3, 3), stride=(1, 1), padding=(1, 1))\n",
      "  (10): GroupNorm(32, 256, eps=1e-05, affine=True)\n",
      "  (11): ReLU(inplace)\n",
      ")\n"
     ]
    }
   ],
   "source": [
    "head = ClsCntRegHead(256, 20)"
   ]
  },
  {
   "cell_type": "code",
   "execution_count": 41,
   "metadata": {},
   "outputs": [
    {
     "name": "stdout",
     "output_type": "stream",
     "text": [
      "torch.Size([2, 20, 40, 60])\n",
      "torch.Size([2, 20, 20, 30])\n",
      "torch.Size([2, 20, 10, 15])\n",
      "torch.Size([2, 20, 5, 8])\n",
      "torch.Size([2, 20, 3, 4])\n",
      "torch.Size([2, 1, 40, 60])\n",
      "torch.Size([2, 1, 20, 30])\n",
      "torch.Size([2, 1, 10, 15])\n",
      "torch.Size([2, 1, 5, 8])\n",
      "torch.Size([2, 1, 3, 4])\n",
      "torch.Size([2, 4, 40, 60])\n",
      "torch.Size([2, 4, 20, 30])\n",
      "torch.Size([2, 4, 10, 15])\n",
      "torch.Size([2, 4, 5, 8])\n",
      "torch.Size([2, 4, 3, 4])\n"
     ]
    }
   ],
   "source": [
    "out_head = head(out_fpn)\n",
    "for i in range(3):\n",
    "    for j in range(5):\n",
    "        print(out_head[i][j].shape)"
   ]
  },
  {
   "cell_type": "markdown",
   "metadata": {},
   "source": [
    "## FOC model"
   ]
  },
  {
   "cell_type": "markdown",
   "metadata": {},
   "source": [
    "<img src=\"imgs/backbone.png\" width=\"700\" height=\"400\" align=\"bottom\">"
   ]
  },
  {
   "cell_type": "code",
   "execution_count": 45,
   "metadata": {
    "code_folding": [
     0,
     2,
     22,
     42
    ]
   },
   "outputs": [],
   "source": [
    "class FCOS(nn.Module):\n",
    "\n",
    "    def __init__(self, config=None):\n",
    "        super().__init__()\n",
    "        if config is None:\n",
    "            config = DefaultConfig\n",
    "        if config.backbone == \"resnet50\":\n",
    "            self.backbone = resnet50(pretrained=config.pretrained)\n",
    "        elif config.backbone == \"darknet19\":    \n",
    "            self.backbone = Darknet19()\n",
    "            \n",
    "        self.fpn = FPN(config.fpn_out_channels, \n",
    "                       use_p5=config.use_p5,\n",
    "                      backbone=config.backbone)\n",
    "        \n",
    "        self.head = ClsCntRegHead(config.fpn_out_channels, \n",
    "                                  config.class_num,\n",
    "                                  config.use_GN_head, \n",
    "                                  config.cnt_on_reg, \n",
    "                                  config.prior)\n",
    "        self.config = config\n",
    "\n",
    "    def train(self, mode=True):\n",
    "        \"\"\"\n",
    "        set module training mode, and frozen bn\n",
    "        \"\"\"\n",
    "        super().train(mode=True)\n",
    "\n",
    "        def freeze_bn(module):\n",
    "            if isinstance(module, nn.BatchNorm2d):\n",
    "                module.eval()\n",
    "            classname = module.__class__.__name__\n",
    "            if classname.find('BatchNorm') != -1:\n",
    "                for p in module.parameters(): p.requires_grad = False\n",
    "\n",
    "        if self.config.freeze_bn:\n",
    "            self.apply(freeze_bn)\n",
    "            print(\"INFO===>success frozen BN\")\n",
    "        if self.config.freeze_stage_1:\n",
    "            self.backbone.freeze_stages(1)\n",
    "            print(\"INFO===>success frozen backbone stage1\")\n",
    "\n",
    "    def forward(self, x):\n",
    "        \"\"\"\n",
    "        Returns\n",
    "        list [cls_logits,cnt_logits,reg_preds]\n",
    "        cls_logits  list contains five [batch_size,class_num,h,w]\n",
    "        cnt_logits  list contains five [batch_size,1,h,w]\n",
    "        reg_preds   list contains five [batch_size,4,h,w]\n",
    "        \"\"\"\n",
    "        C3, C4, C5 = self.backbone(x)\n",
    "        all_P = self.fpn([C3, C4, C5])\n",
    "        cls_logits, cnt_logits, reg_preds = self.head(all_P)\n",
    "        return [cls_logits, cnt_logits, reg_preds]"
   ]
  },
  {
   "cell_type": "code",
   "execution_count": 49,
   "metadata": {
    "code_folding": [
     0
    ]
   },
   "outputs": [],
   "source": [
    "class DefaultConfig():\n",
    "    # backbone\n",
    "    backbone=\"darknet19\"\n",
    "#     backbone=\"resnet50\"\n",
    "    pretrained = False  # 不加载预训练模型\n",
    "    freeze_stage_1 = True\n",
    "    freeze_bn = True\n",
    "\n",
    "    # fpn\n",
    "    fpn_out_channels = 256\n",
    "    use_p5 = True\n",
    "    \n",
    "    # head\n",
    "    class_num = 20\n",
    "    use_GN_head = True\n",
    "    prior = 0.01\n",
    "    add_centerness = True\n",
    "    cnt_on_reg = False\n",
    "\n",
    "    # training\n",
    "    strides = [8, 16, 32, 64, 128]\n",
    "    limit_range = [[-1, 64], [64, 128], [128, 256], [256, 512], [512, 999999]]\n",
    "\n",
    "    # inference\n",
    "    score_threshold = 0.3\n",
    "    nms_iou_threshold = 0.2\n",
    "    max_detection_boxes_num = 150    "
   ]
  },
  {
   "cell_type": "code",
   "execution_count": 59,
   "metadata": {},
   "outputs": [],
   "source": [
    "def prt(*x):\n",
    "#     print(*x)\n",
    "    pass"
   ]
  },
  {
   "cell_type": "code",
   "execution_count": 60,
   "metadata": {},
   "outputs": [
    {
     "name": "stdout",
     "output_type": "stream",
     "text": [
      "darnet19 backbone\n"
     ]
    }
   ],
   "source": [
    "fcos = FCOS()"
   ]
  },
  {
   "cell_type": "code",
   "execution_count": 61,
   "metadata": {
    "code_folding": []
   },
   "outputs": [
    {
     "name": "stdout",
     "output_type": "stream",
     "text": [
      "输入特征层维度： torch.Size([2, 256, 40, 60]) torch.Size([2, 512, 20, 30]) torch.Size([2, 1024, 10, 15]) \n",
      "\n",
      "torch.Size([2, 20, 40, 60])\n",
      "torch.Size([2, 20, 20, 30])\n",
      "torch.Size([2, 20, 10, 15])\n",
      "torch.Size([2, 20, 5, 8])\n",
      "torch.Size([2, 20, 3, 4])\n",
      "torch.Size([2, 1, 40, 60])\n",
      "torch.Size([2, 1, 20, 30])\n",
      "torch.Size([2, 1, 10, 15])\n",
      "torch.Size([2, 1, 5, 8])\n",
      "torch.Size([2, 1, 3, 4])\n",
      "torch.Size([2, 4, 40, 60])\n",
      "torch.Size([2, 4, 20, 30])\n",
      "torch.Size([2, 4, 10, 15])\n",
      "torch.Size([2, 4, 5, 8])\n",
      "torch.Size([2, 4, 3, 4])\n"
     ]
    }
   ],
   "source": [
    "x = torch.randn((2,3,320,480))\n",
    "y = fcos(x)\n",
    "for i in range(3):\n",
    "    for j in range(5):\n",
    "        print(y[i][j].shape)"
   ]
  },
  {
   "cell_type": "code",
   "execution_count": null,
   "metadata": {},
   "outputs": [],
   "source": []
  }
 ],
 "metadata": {
  "hide_input": false,
  "kernelspec": {
   "display_name": "torch1.1",
   "language": "python",
   "name": "torch1.1"
  },
  "language_info": {
   "codemirror_mode": {
    "name": "ipython",
    "version": 3
   },
   "file_extension": ".py",
   "mimetype": "text/x-python",
   "name": "python",
   "nbconvert_exporter": "python",
   "pygments_lexer": "ipython3",
   "version": "3.7.7"
  },
  "toc": {
   "base_numbering": 1,
   "nav_menu": {},
   "number_sections": true,
   "sideBar": true,
   "skip_h1_title": true,
   "title_cell": "Table of Contents",
   "title_sidebar": "Contents",
   "toc_cell": false,
   "toc_position": {
    "height": "calc(100% - 180px)",
    "left": "10px",
    "top": "150px",
    "width": "184.6px"
   },
   "toc_section_display": true,
   "toc_window_display": true
  },
  "varInspector": {
   "cols": {
    "lenName": 16,
    "lenType": 16,
    "lenVar": 40
   },
   "kernels_config": {
    "python": {
     "delete_cmd_postfix": "",
     "delete_cmd_prefix": "del ",
     "library": "var_list.py",
     "varRefreshCmd": "print(var_dic_list())"
    },
    "r": {
     "delete_cmd_postfix": ") ",
     "delete_cmd_prefix": "rm(",
     "library": "var_list.r",
     "varRefreshCmd": "cat(var_dic_list()) "
    }
   },
   "types_to_exclude": [
    "module",
    "function",
    "builtin_function_or_method",
    "instance",
    "_Feature"
   ],
   "window_display": false
  }
 },
 "nbformat": 4,
 "nbformat_minor": 4
}
