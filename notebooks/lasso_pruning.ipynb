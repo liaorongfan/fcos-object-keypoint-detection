{
 "cells": [
  {
   "cell_type": "markdown",
   "metadata": {},
   "source": [
    "## 导入相关包"
   ]
  },
  {
   "cell_type": "code",
   "execution_count": 1,
   "metadata": {},
   "outputs": [],
   "source": [
    "import numpy as np\n",
    "import os\n",
    "import torch\n",
    "from copy import deepcopy\n",
    "\n",
    "import matplotlib.pyplot as plt\n",
    "%matplotlib inline"
   ]
  },
  {
   "cell_type": "code",
   "execution_count": 2,
   "metadata": {},
   "outputs": [],
   "source": [
    "ckpt_path = \"./model_24_5e_1.pth\"\n",
    "pretrained_model = torch.load(ckpt_path, map_location='cpu')"
   ]
  },
  {
   "cell_type": "markdown",
   "metadata": {},
   "source": [
    "## 查看darknet19结构"
   ]
  },
  {
   "cell_type": "code",
   "execution_count": 4,
   "metadata": {},
   "outputs": [
    {
     "data": {
      "text/html": [
       "<img src=\"./darknet19-p1.png\">"
      ],
      "text/plain": [
       "<IPython.core.display.HTML object>"
      ]
     },
     "metadata": {},
     "output_type": "display_data"
    }
   ],
   "source": [
    "%%html\n",
    "<img src=\"./darknet19-p1.png\">"
   ]
  },
  {
   "cell_type": "code",
   "execution_count": 5,
   "metadata": {},
   "outputs": [
    {
     "data": {
      "text/html": [
       "<img src=\"./darknet19-p2.png\">"
      ],
      "text/plain": [
       "<IPython.core.display.HTML object>"
      ]
     },
     "metadata": {},
     "output_type": "display_data"
    }
   ],
   "source": [
    "%%html\n",
    "<img src=\"./darknet19-p2.png\">"
   ]
  },
  {
   "cell_type": "code",
   "execution_count": 6,
   "metadata": {},
   "outputs": [
    {
     "data": {
      "text/html": [
       "<img src=\"./fpn_head.png\">"
      ],
      "text/plain": [
       "<IPython.core.display.HTML object>"
      ]
     },
     "metadata": {},
     "output_type": "display_data"
    }
   ],
   "source": [
    "%%html\n",
    "<img src=\"./fpn_head.png\">"
   ]
  },
  {
   "cell_type": "code",
   "execution_count": 3,
   "metadata": {},
   "outputs": [
    {
     "name": "stdout",
     "output_type": "stream",
     "text": [
      "module.fcos_body.backbone.block1.0.weight torch.Size([32, 3, 3, 3])\n",
      "module.fcos_body.backbone.block1.1.weight torch.Size([32])\n",
      "module.fcos_body.backbone.block1.1.bias torch.Size([32])\n",
      "module.fcos_body.backbone.block1.1.running_mean torch.Size([32])\n",
      "module.fcos_body.backbone.block1.1.running_var torch.Size([32])\n",
      "module.fcos_body.backbone.block1.1.num_batches_tracked torch.Size([])\n",
      "module.fcos_body.backbone.block1.4.weight torch.Size([64, 32, 3, 3])\n",
      "module.fcos_body.backbone.block1.5.weight torch.Size([64])\n",
      "module.fcos_body.backbone.block1.5.bias torch.Size([64])\n",
      "module.fcos_body.backbone.block1.5.running_mean torch.Size([64])\n",
      "module.fcos_body.backbone.block1.5.running_var torch.Size([64])\n",
      "module.fcos_body.backbone.block1.5.num_batches_tracked torch.Size([])\n",
      "module.fcos_body.backbone.block1.8.weight torch.Size([128, 64, 3, 3])\n",
      "module.fcos_body.backbone.block1.9.weight torch.Size([128])\n",
      "module.fcos_body.backbone.block1.9.bias torch.Size([128])\n",
      "module.fcos_body.backbone.block1.9.running_mean torch.Size([128])\n",
      "module.fcos_body.backbone.block1.9.running_var torch.Size([128])\n",
      "module.fcos_body.backbone.block1.9.num_batches_tracked torch.Size([])\n",
      "module.fcos_body.backbone.block1.11.weight torch.Size([64, 128, 1, 1])\n",
      "module.fcos_body.backbone.block1.12.weight torch.Size([64])\n",
      "module.fcos_body.backbone.block1.12.bias torch.Size([64])\n",
      "module.fcos_body.backbone.block1.12.running_mean torch.Size([64])\n",
      "module.fcos_body.backbone.block1.12.running_var torch.Size([64])\n",
      "module.fcos_body.backbone.block1.12.num_batches_tracked torch.Size([])\n",
      "module.fcos_body.backbone.block1.14.weight torch.Size([128, 64, 3, 3])\n",
      "module.fcos_body.backbone.block1.15.weight torch.Size([128])\n",
      "module.fcos_body.backbone.block1.15.bias torch.Size([128])\n",
      "module.fcos_body.backbone.block1.15.running_mean torch.Size([128])\n",
      "module.fcos_body.backbone.block1.15.running_var torch.Size([128])\n",
      "module.fcos_body.backbone.block1.15.num_batches_tracked torch.Size([])\n",
      "module.fcos_body.backbone.block1.18.weight torch.Size([256, 128, 3, 3])\n",
      "module.fcos_body.backbone.block1.19.weight torch.Size([256])\n",
      "module.fcos_body.backbone.block1.19.bias torch.Size([256])\n",
      "module.fcos_body.backbone.block1.19.running_mean torch.Size([256])\n",
      "module.fcos_body.backbone.block1.19.running_var torch.Size([256])\n",
      "module.fcos_body.backbone.block1.19.num_batches_tracked torch.Size([])\n",
      "module.fcos_body.backbone.block1.21.weight torch.Size([128, 256, 1, 1])\n",
      "module.fcos_body.backbone.block1.22.weight torch.Size([128])\n",
      "module.fcos_body.backbone.block1.22.bias torch.Size([128])\n",
      "module.fcos_body.backbone.block1.22.running_mean torch.Size([128])\n",
      "module.fcos_body.backbone.block1.22.running_var torch.Size([128])\n",
      "module.fcos_body.backbone.block1.22.num_batches_tracked torch.Size([])\n",
      "module.fcos_body.backbone.block1.24.weight torch.Size([256, 128, 3, 3])\n",
      "module.fcos_body.backbone.block1.25.weight torch.Size([256])\n",
      "module.fcos_body.backbone.block1.25.bias torch.Size([256])\n",
      "module.fcos_body.backbone.block1.25.running_mean torch.Size([256])\n",
      "module.fcos_body.backbone.block1.25.running_var torch.Size([256])\n",
      "module.fcos_body.backbone.block1.25.num_batches_tracked torch.Size([])\n",
      "module.fcos_body.backbone.block2.1.weight torch.Size([512, 256, 3, 3])\n",
      "module.fcos_body.backbone.block2.2.weight torch.Size([512])\n",
      "module.fcos_body.backbone.block2.2.bias torch.Size([512])\n",
      "module.fcos_body.backbone.block2.2.running_mean torch.Size([512])\n",
      "module.fcos_body.backbone.block2.2.running_var torch.Size([512])\n",
      "module.fcos_body.backbone.block2.2.num_batches_tracked torch.Size([])\n",
      "module.fcos_body.backbone.block2.4.weight torch.Size([256, 512, 1, 1])\n",
      "module.fcos_body.backbone.block2.5.weight torch.Size([256])\n",
      "module.fcos_body.backbone.block2.5.bias torch.Size([256])\n",
      "module.fcos_body.backbone.block2.5.running_mean torch.Size([256])\n",
      "module.fcos_body.backbone.block2.5.running_var torch.Size([256])\n",
      "module.fcos_body.backbone.block2.5.num_batches_tracked torch.Size([])\n",
      "module.fcos_body.backbone.block2.7.weight torch.Size([512, 256, 3, 3])\n",
      "module.fcos_body.backbone.block2.8.weight torch.Size([512])\n",
      "module.fcos_body.backbone.block2.8.bias torch.Size([512])\n",
      "module.fcos_body.backbone.block2.8.running_mean torch.Size([512])\n",
      "module.fcos_body.backbone.block2.8.running_var torch.Size([512])\n",
      "module.fcos_body.backbone.block2.8.num_batches_tracked torch.Size([])\n",
      "module.fcos_body.backbone.block2.10.weight torch.Size([256, 512, 1, 1])\n",
      "module.fcos_body.backbone.block2.11.weight torch.Size([256])\n",
      "module.fcos_body.backbone.block2.11.bias torch.Size([256])\n",
      "module.fcos_body.backbone.block2.11.running_mean torch.Size([256])\n",
      "module.fcos_body.backbone.block2.11.running_var torch.Size([256])\n",
      "module.fcos_body.backbone.block2.11.num_batches_tracked torch.Size([])\n",
      "module.fcos_body.backbone.block2.13.weight torch.Size([512, 256, 3, 3])\n",
      "module.fcos_body.backbone.block2.14.weight torch.Size([512])\n",
      "module.fcos_body.backbone.block2.14.bias torch.Size([512])\n",
      "module.fcos_body.backbone.block2.14.running_mean torch.Size([512])\n",
      "module.fcos_body.backbone.block2.14.running_var torch.Size([512])\n",
      "module.fcos_body.backbone.block2.14.num_batches_tracked torch.Size([])\n",
      "module.fcos_body.backbone.block3.1.weight torch.Size([1024, 512, 3, 3])\n",
      "module.fcos_body.backbone.block3.2.weight torch.Size([1024])\n",
      "module.fcos_body.backbone.block3.2.bias torch.Size([1024])\n",
      "module.fcos_body.backbone.block3.2.running_mean torch.Size([1024])\n",
      "module.fcos_body.backbone.block3.2.running_var torch.Size([1024])\n",
      "module.fcos_body.backbone.block3.2.num_batches_tracked torch.Size([])\n",
      "module.fcos_body.backbone.block3.4.weight torch.Size([512, 1024, 1, 1])\n",
      "module.fcos_body.backbone.block3.5.weight torch.Size([512])\n",
      "module.fcos_body.backbone.block3.5.bias torch.Size([512])\n",
      "module.fcos_body.backbone.block3.5.running_mean torch.Size([512])\n",
      "module.fcos_body.backbone.block3.5.running_var torch.Size([512])\n",
      "module.fcos_body.backbone.block3.5.num_batches_tracked torch.Size([])\n",
      "module.fcos_body.backbone.block3.7.weight torch.Size([1024, 512, 3, 3])\n",
      "module.fcos_body.backbone.block3.8.weight torch.Size([1024])\n",
      "module.fcos_body.backbone.block3.8.bias torch.Size([1024])\n",
      "module.fcos_body.backbone.block3.8.running_mean torch.Size([1024])\n",
      "module.fcos_body.backbone.block3.8.running_var torch.Size([1024])\n",
      "module.fcos_body.backbone.block3.8.num_batches_tracked torch.Size([])\n",
      "module.fcos_body.backbone.block3.10.weight torch.Size([512, 1024, 1, 1])\n",
      "module.fcos_body.backbone.block3.11.weight torch.Size([512])\n",
      "module.fcos_body.backbone.block3.11.bias torch.Size([512])\n",
      "module.fcos_body.backbone.block3.11.running_mean torch.Size([512])\n",
      "module.fcos_body.backbone.block3.11.running_var torch.Size([512])\n",
      "module.fcos_body.backbone.block3.11.num_batches_tracked torch.Size([])\n",
      "module.fcos_body.backbone.block3.13.weight torch.Size([1024, 512, 3, 3])\n",
      "module.fcos_body.backbone.block3.14.weight torch.Size([1024])\n",
      "module.fcos_body.backbone.block3.14.bias torch.Size([1024])\n",
      "module.fcos_body.backbone.block3.14.running_mean torch.Size([1024])\n",
      "module.fcos_body.backbone.block3.14.running_var torch.Size([1024])\n",
      "module.fcos_body.backbone.block3.14.num_batches_tracked torch.Size([])\n",
      "module.fcos_body.fpn.prj_5.weight torch.Size([256, 1024, 1, 1])\n",
      "module.fcos_body.fpn.prj_5.bias torch.Size([256])\n",
      "module.fcos_body.fpn.prj_4.weight torch.Size([256, 512, 1, 1])\n",
      "module.fcos_body.fpn.prj_4.bias torch.Size([256])\n",
      "module.fcos_body.fpn.prj_3.weight torch.Size([256, 256, 1, 1])\n",
      "module.fcos_body.fpn.prj_3.bias torch.Size([256])\n",
      "module.fcos_body.fpn.conv_5.weight torch.Size([256, 256, 3, 3])\n",
      "module.fcos_body.fpn.conv_5.bias torch.Size([256])\n",
      "module.fcos_body.fpn.conv_4.weight torch.Size([256, 256, 3, 3])\n",
      "module.fcos_body.fpn.conv_4.bias torch.Size([256])\n",
      "module.fcos_body.fpn.conv_3.weight torch.Size([256, 256, 3, 3])\n",
      "module.fcos_body.fpn.conv_3.bias torch.Size([256])\n",
      "module.fcos_body.fpn.conv_out6.weight torch.Size([256, 256, 3, 3])\n",
      "module.fcos_body.fpn.conv_out6.bias torch.Size([256])\n",
      "module.fcos_body.fpn.conv_out7.weight torch.Size([256, 256, 3, 3])\n",
      "module.fcos_body.fpn.conv_out7.bias torch.Size([256])\n",
      "module.fcos_body.head.cls_conv.0.weight torch.Size([256, 256, 3, 3])\n",
      "module.fcos_body.head.cls_conv.0.bias torch.Size([256])\n",
      "module.fcos_body.head.cls_conv.1.weight torch.Size([256])\n",
      "module.fcos_body.head.cls_conv.1.bias torch.Size([256])\n",
      "module.fcos_body.head.cls_conv.3.weight torch.Size([256, 256, 3, 3])\n",
      "module.fcos_body.head.cls_conv.3.bias torch.Size([256])\n",
      "module.fcos_body.head.cls_conv.4.weight torch.Size([256])\n",
      "module.fcos_body.head.cls_conv.4.bias torch.Size([256])\n",
      "module.fcos_body.head.cls_conv.6.weight torch.Size([256, 256, 3, 3])\n",
      "module.fcos_body.head.cls_conv.6.bias torch.Size([256])\n",
      "module.fcos_body.head.cls_conv.7.weight torch.Size([256])\n",
      "module.fcos_body.head.cls_conv.7.bias torch.Size([256])\n",
      "module.fcos_body.head.cls_conv.9.weight torch.Size([256, 256, 3, 3])\n",
      "module.fcos_body.head.cls_conv.9.bias torch.Size([256])\n",
      "module.fcos_body.head.cls_conv.10.weight torch.Size([256])\n",
      "module.fcos_body.head.cls_conv.10.bias torch.Size([256])\n",
      "module.fcos_body.head.reg_conv.0.weight torch.Size([256, 256, 3, 3])\n",
      "module.fcos_body.head.reg_conv.0.bias torch.Size([256])\n",
      "module.fcos_body.head.reg_conv.1.weight torch.Size([256])\n",
      "module.fcos_body.head.reg_conv.1.bias torch.Size([256])\n",
      "module.fcos_body.head.reg_conv.3.weight torch.Size([256, 256, 3, 3])\n",
      "module.fcos_body.head.reg_conv.3.bias torch.Size([256])\n",
      "module.fcos_body.head.reg_conv.4.weight torch.Size([256])\n",
      "module.fcos_body.head.reg_conv.4.bias torch.Size([256])\n",
      "module.fcos_body.head.reg_conv.6.weight torch.Size([256, 256, 3, 3])\n",
      "module.fcos_body.head.reg_conv.6.bias torch.Size([256])\n",
      "module.fcos_body.head.reg_conv.7.weight torch.Size([256])\n",
      "module.fcos_body.head.reg_conv.7.bias torch.Size([256])\n",
      "module.fcos_body.head.reg_conv.9.weight torch.Size([256, 256, 3, 3])\n",
      "module.fcos_body.head.reg_conv.9.bias torch.Size([256])\n",
      "module.fcos_body.head.reg_conv.10.weight torch.Size([256])\n",
      "module.fcos_body.head.reg_conv.10.bias torch.Size([256])\n",
      "module.fcos_body.head.cls_logits.weight torch.Size([20, 256, 3, 3])\n",
      "module.fcos_body.head.cls_logits.bias torch.Size([20])\n",
      "module.fcos_body.head.cnt_logits.weight torch.Size([1, 256, 3, 3])\n",
      "module.fcos_body.head.cnt_logits.bias torch.Size([1])\n",
      "module.fcos_body.head.reg_pred.weight torch.Size([4, 256, 3, 3])\n",
      "module.fcos_body.head.reg_pred.bias torch.Size([4])\n",
      "module.fcos_body.head.scale_exp.0.scale torch.Size([1])\n",
      "module.fcos_body.head.scale_exp.1.scale torch.Size([1])\n",
      "module.fcos_body.head.scale_exp.2.scale torch.Size([1])\n",
      "module.fcos_body.head.scale_exp.3.scale torch.Size([1])\n",
      "module.fcos_body.head.scale_exp.4.scale torch.Size([1])\n"
     ]
    }
   ],
   "source": [
    "for k,v in pretrained_model.items():\n",
    "    print(k, v.shape)"
   ]
  },
  {
   "cell_type": "code",
   "execution_count": 4,
   "metadata": {},
   "outputs": [],
   "source": [
    "relation_map = {}\n",
    "relation_map['block1.0'] = {'pre':None, 'post':'block1.4'}\n",
    "relation_map['block1.4'] = {'pre':'block1.0', 'post':'block1.8'}\n",
    "relation_map['block1.8'] = {'pre':'block1.4', 'post':'block1.11'}\n",
    "relation_map['block1.11'] = {'pre':'block1.8', 'post':'block1.14'}\n",
    "relation_map['block1.14'] = {'pre':'block1.11', 'post':'block1.18'}\n",
    "relation_map['block1.18'] = {'pre':'block1.14', 'post':'block1.21'}\n",
    "relation_map['block1.21'] = {'pre':'block1.18', 'post':'block1.24'}\n",
    "relation_map['block1.24'] = {'pre':'block1.21', 'post':'block2.1'}\n",
    "relation_map['block2.1'] = {'pre':'block1.24', 'post':'block2.4'}\n",
    "relation_map['block2.4'] = {'pre':'block2.1', 'post':'block2.7'}\n",
    "relation_map['block2.7'] = {'pre':'block2.4', 'post':'block2.10'}\n",
    "relation_map['block2.10'] = {'pre':'block2.7', 'post':'block2.13'}\n",
    "relation_map['block2.13'] = {'pre':'block2.10', 'post':'block3.1'}\n",
    "relation_map['block3.1'] = {'pre':'block2.13', 'post':'block3.4'}\n",
    "relation_map['block3.4'] = {'pre':'block3.1', 'post':'block3.7'}\n",
    "relation_map['block3.7'] = {'pre':'block3.4', 'post':'block3.10'}\n",
    "relation_map['block3.10'] = {'pre':'block3.7', 'post':'block3.13'}\n",
    "relation_map['block3.13'] = {'pre':'block3.10', 'post':None}\n",
    "\n",
    "relation_map['proj5'] = {'pre':'block1.24', 'post':None}\n",
    "relation_map['proj4'] = {'pre':'block2.13', 'post':None}\n",
    "relation_map['proj3'] = {'pre':'block3.13', 'post':None}"
   ]
  },
  {
   "cell_type": "code",
   "execution_count": 5,
   "metadata": {},
   "outputs": [
    {
     "name": "stdout",
     "output_type": "stream",
     "text": [
      "module.fcos_body.backbone.block1.1\n",
      "module.fcos_body.backbone.block1.5\n",
      "module.fcos_body.backbone.block1.9\n",
      "module.fcos_body.backbone.block1.12\n",
      "module.fcos_body.backbone.block1.15\n",
      "module.fcos_body.backbone.block1.19\n",
      "module.fcos_body.backbone.block1.22\n",
      "module.fcos_body.backbone.block1.25\n",
      "module.fcos_body.backbone.block2.2\n",
      "module.fcos_body.backbone.block2.5\n",
      "module.fcos_body.backbone.block2.8\n",
      "module.fcos_body.backbone.block2.11\n",
      "module.fcos_body.backbone.block2.14\n",
      "module.fcos_body.backbone.block3.2\n",
      "module.fcos_body.backbone.block3.5\n",
      "module.fcos_body.backbone.block3.8\n",
      "module.fcos_body.backbone.block3.11\n",
      "module.fcos_body.backbone.block3.14\n"
     ]
    }
   ],
   "source": [
    "# 找出为bn的层，方式：如果盖层存在running_mean，则为带bn的层\n",
    "bn_layers = []\n",
    "for k in pretrained_model.keys():\n",
    "    if 'running_mean' in k:\n",
    "        print(k[:-13])\n",
    "        bn_layers.append(k[:-13])"
   ]
  },
  {
   "cell_type": "code",
   "execution_count": 6,
   "metadata": {},
   "outputs": [
    {
     "data": {
      "image/png": "[encoded data removed]",
      "text/plain": [
       "<Figure size 432x288 with 1 Axes>"
      ]
     },
     "metadata": {},
     "output_type": "display_data"
    }
   ],
   "source": [
    "# 额外小操作：观察下训练好的gamma的分布，如果要按照thr砍，可以根据这个图为基准\n",
    "gammas = []\n",
    "for k,v in pretrained_model.items():\n",
    "    if 'running_mean' in k:\n",
    "        bn_gamma_name = k[:-13] + '.weight'\n",
    "        _gamma = pretrained_model[bn_gamma_name].numpy()\n",
    "        gammas.append(_gamma)\n",
    "        \n",
    "gammas = np.concatenate(gammas)\n",
    "plt.hist(gammas, bins=500)\n",
    "plt.show()"
   ]
  },
  {
   "cell_type": "code",
   "execution_count": 7,
   "metadata": {
    "scrolled": true
   },
   "outputs": [
    {
     "name": "stdout",
     "output_type": "stream",
     "text": [
      "32 22\n",
      "64 45\n",
      "128 90\n",
      "64 45\n",
      "128 90\n",
      "256 179\n",
      "128 90\n",
      "256 179\n",
      "512 358\n",
      "256 179\n",
      "512 358\n",
      "256 179\n",
      "512 358\n",
      "1024 717\n",
      "512 358\n",
      "1024 717\n",
      "512 358\n"
     ]
    }
   ],
   "source": [
    "ckpt_path = \"./model_24_5e_1.pth\"\n",
    "pretrained_model = torch.load(ckpt_path, map_location='cpu')\n",
    "pruned_model = deepcopy(pretrained_model)\n",
    "\n",
    "# 砍掉30%的权重\n",
    "p_prune = 0.3\n",
    "kept_in_idx = None\n",
    "for k,v in pretrained_model.items():\n",
    "    indicator_k = '.'.join(k.split('.')[:-1])\n",
    "    # 找到不在bn层，并且在backbone里的参数\n",
    "    if indicator_k not in bn_layers and 'backbone' in indicator_k:\n",
    "        \n",
    "        # 先判断in channels需要剪多少， 输入层不剪in channel\n",
    "        if 'block1.0' in indicator_k:\n",
    "            pass\n",
    "        else:\n",
    "            # 先按照设好的映射字典，找到前一个weights\n",
    "            pre_indicator = '.'.join(indicator_k.split('.')[:-2])+'.'+relation_map['.'.join(indicator_k.split('.')[-2:])]['pre']\n",
    "            pre_bn_layer = '.'.join(pre_indicator.split('.')[:-1])+'.'+str(int(pre_indicator.split('.')[-1])+1)\n",
    "            pre_bn_gamma_name = pre_bn_layer + '.weight'\n",
    "            pre_bn_gamma = pretrained_model[pre_bn_gamma_name]\n",
    "            # print(pre_weight_name, tmp.shape, pre_weight.shape)\n",
    "            # pre_weight = pretrained_model[indicator_k+'.weight']\n",
    "            pre_out_channels = pre_bn_gamma.size(0)\n",
    "            pre_num_pruning = int(pre_out_channels * p_prune + 0.5)\n",
    "            _, kept_in_idx = torch.topk(pre_bn_gamma, pre_out_channels-pre_num_pruning, largest=True)\n",
    "            \n",
    "            ############################################################\n",
    "            # 先剪weight的输入channel数\n",
    "            ############################################################\n",
    "            pruned_model[k] = pruned_model[k][:, kept_in_idx]\n",
    "            \n",
    "        #print('indicator_k: ', indicator_k)    \n",
    "        # 本层weight对应的bn层\n",
    "        name_bn_layer = '.'.join(indicator_k.split('.')[:-1])+'.'+str(int(indicator_k.split('.')[-1])+1)\n",
    "        name_bn_gamma = name_bn_layer + '.weight'\n",
    "        bn_gamma = pretrained_model[name_bn_gamma]\n",
    "        # 决定输出层剪多少, 四舍五入\n",
    "        out_channels = bn_gamma.size(0) # gamma的形状为(out_channels, )\n",
    "        num_pruning = int(out_channels * p_prune + 0.5)\n",
    "        # 选出weight的l2 norm最小的k层权重\n",
    "        _, kept_out_idx = torch.topk(bn_gamma, out_channels-num_pruning, largest=True)\n",
    "        print(out_channels, len(kept_out_idx))\n",
    "        ############################################################\n",
    "        # 拿到要保留的idx后，开始剪枝\n",
    "        ############################################################\n",
    "        # Step1. 剪weights的输出channels\n",
    "        pruned_model[k] = pruned_model[k][kept_out_idx]\n",
    "        \n",
    "        # Step2. 剪bn的weight, bias, moving, moving var\n",
    "        # 将e.g. module.fcos_body.backbone.block1.0最后一个数字加1，可以得到相应的bn层\n",
    "        \n",
    "        # 这里name_bn_weight其实和上面name_bn_gamma是同一个变量的不同命名，保留name_bn_weight这个命名\n",
    "        # 仅仅是为了和l2_pruning文件的这部分保持一致\n",
    "        name_bn_weight = name_bn_layer + '.weight'  # \n",
    "        pruned_model[name_bn_weight] = pruned_model[name_bn_weight][kept_out_idx]\n",
    "        \n",
    "        name_bn_bias = name_bn_layer + '.bias'\n",
    "        pruned_model[name_bn_bias] = pruned_model[name_bn_bias][kept_out_idx]\n",
    "        \n",
    "        name_bn_running_mean = name_bn_layer + '.running_mean'\n",
    "        pruned_model[name_bn_running_mean] = pruned_model[name_bn_running_mean][kept_out_idx]\n",
    "        \n",
    "        name_bn_running_var = name_bn_layer + '.running_var'\n",
    "        pruned_model[name_bn_running_var] = pruned_model[name_bn_running_var][kept_out_idx]\n",
    "        \n",
    "        # Step3. 顺便剪FPN的lateral convs\n",
    "        # block1.24 负责prj_3，该卷积的输入channel数应等于block1.24剪完的输出channel数,其他同理\n",
    "        if 'block1.24' in indicator_k:\n",
    "            pruned_model['module.fcos_body.fpn.prj_3.weight'] = pruned_model['module.fcos_body.fpn.prj_3.weight'][:,kept_out_idx]\n",
    "        elif 'block2.13' in indicator_k:\n",
    "            pruned_model['module.fcos_body.fpn.prj_4.weight'] = pruned_model['module.fcos_body.fpn.prj_4.weight'][:,kept_out_idx]\n",
    "        elif 'block3.13' in indicator_k:\n",
    "            pruned_model['module.fcos_body.fpn.prj_5.weight'] = pruned_model['module.fcos_body.fpn.prj_5.weight'][:,kept_out_idx]"
   ]
  },
  {
   "cell_type": "code",
   "execution_count": 8,
   "metadata": {},
   "outputs": [
    {
     "name": "stdout",
     "output_type": "stream",
     "text": [
      "module.fcos_body.backbone.block1.0.weight torch.Size([22, 3, 3, 3]) torch.Size([32, 3, 3, 3])\n",
      "module.fcos_body.backbone.block1.1.weight torch.Size([22]) torch.Size([32])\n",
      "module.fcos_body.backbone.block1.1.bias torch.Size([22]) torch.Size([32])\n",
      "module.fcos_body.backbone.block1.1.running_mean torch.Size([22]) torch.Size([32])\n",
      "module.fcos_body.backbone.block1.1.running_var torch.Size([22]) torch.Size([32])\n",
      "module.fcos_body.backbone.block1.4.weight torch.Size([45, 22, 3, 3]) torch.Size([64, 32, 3, 3])\n",
      "module.fcos_body.backbone.block1.5.weight torch.Size([45]) torch.Size([64])\n",
      "module.fcos_body.backbone.block1.5.bias torch.Size([45]) torch.Size([64])\n",
      "module.fcos_body.backbone.block1.5.running_mean torch.Size([45]) torch.Size([64])\n",
      "module.fcos_body.backbone.block1.5.running_var torch.Size([45]) torch.Size([64])\n",
      "module.fcos_body.backbone.block1.8.weight torch.Size([90, 45, 3, 3]) torch.Size([128, 64, 3, 3])\n",
      "module.fcos_body.backbone.block1.9.weight torch.Size([90]) torch.Size([128])\n",
      "module.fcos_body.backbone.block1.9.bias torch.Size([90]) torch.Size([128])\n",
      "module.fcos_body.backbone.block1.9.running_mean torch.Size([90]) torch.Size([128])\n",
      "module.fcos_body.backbone.block1.9.running_var torch.Size([90]) torch.Size([128])\n",
      "module.fcos_body.backbone.block1.11.weight torch.Size([45, 90, 1, 1]) torch.Size([64, 128, 1, 1])\n",
      "module.fcos_body.backbone.block1.12.weight torch.Size([45]) torch.Size([64])\n",
      "module.fcos_body.backbone.block1.12.bias torch.Size([45]) torch.Size([64])\n",
      "module.fcos_body.backbone.block1.12.running_mean torch.Size([45]) torch.Size([64])\n",
      "module.fcos_body.backbone.block1.12.running_var torch.Size([45]) torch.Size([64])\n",
      "module.fcos_body.backbone.block1.14.weight torch.Size([90, 45, 3, 3]) torch.Size([128, 64, 3, 3])\n",
      "module.fcos_body.backbone.block1.15.weight torch.Size([90]) torch.Size([128])\n",
      "module.fcos_body.backbone.block1.15.bias torch.Size([90]) torch.Size([128])\n",
      "module.fcos_body.backbone.block1.15.running_mean torch.Size([90]) torch.Size([128])\n",
      "module.fcos_body.backbone.block1.15.running_var torch.Size([90]) torch.Size([128])\n",
      "module.fcos_body.backbone.block1.18.weight torch.Size([179, 90, 3, 3]) torch.Size([256, 128, 3, 3])\n",
      "module.fcos_body.backbone.block1.19.weight torch.Size([179]) torch.Size([256])\n",
      "module.fcos_body.backbone.block1.19.bias torch.Size([179]) torch.Size([256])\n",
      "module.fcos_body.backbone.block1.19.running_mean torch.Size([179]) torch.Size([256])\n",
      "module.fcos_body.backbone.block1.19.running_var torch.Size([179]) torch.Size([256])\n",
      "module.fcos_body.backbone.block1.21.weight torch.Size([90, 179, 1, 1]) torch.Size([128, 256, 1, 1])\n",
      "module.fcos_body.backbone.block1.22.weight torch.Size([90]) torch.Size([128])\n",
      "module.fcos_body.backbone.block1.22.bias torch.Size([90]) torch.Size([128])\n",
      "module.fcos_body.backbone.block1.22.running_mean torch.Size([90]) torch.Size([128])\n",
      "module.fcos_body.backbone.block1.22.running_var torch.Size([90]) torch.Size([128])\n",
      "module.fcos_body.backbone.block1.24.weight torch.Size([179, 90, 3, 3]) torch.Size([256, 128, 3, 3])\n",
      "module.fcos_body.backbone.block1.25.weight torch.Size([179]) torch.Size([256])\n",
      "module.fcos_body.backbone.block1.25.bias torch.Size([179]) torch.Size([256])\n",
      "module.fcos_body.backbone.block1.25.running_mean torch.Size([179]) torch.Size([256])\n",
      "module.fcos_body.backbone.block1.25.running_var torch.Size([179]) torch.Size([256])\n",
      "module.fcos_body.backbone.block2.1.weight torch.Size([358, 179, 3, 3]) torch.Size([512, 256, 3, 3])\n",
      "module.fcos_body.backbone.block2.2.weight torch.Size([358]) torch.Size([512])\n",
      "module.fcos_body.backbone.block2.2.bias torch.Size([358]) torch.Size([512])\n",
      "module.fcos_body.backbone.block2.2.running_mean torch.Size([358]) torch.Size([512])\n",
      "module.fcos_body.backbone.block2.2.running_var torch.Size([358]) torch.Size([512])\n",
      "module.fcos_body.backbone.block2.4.weight torch.Size([179, 358, 1, 1]) torch.Size([256, 512, 1, 1])\n",
      "module.fcos_body.backbone.block2.5.weight torch.Size([179]) torch.Size([256])\n",
      "module.fcos_body.backbone.block2.5.bias torch.Size([179]) torch.Size([256])\n",
      "module.fcos_body.backbone.block2.5.running_mean torch.Size([179]) torch.Size([256])\n",
      "module.fcos_body.backbone.block2.5.running_var torch.Size([179]) torch.Size([256])\n",
      "module.fcos_body.backbone.block2.7.weight torch.Size([358, 179, 3, 3]) torch.Size([512, 256, 3, 3])\n",
      "module.fcos_body.backbone.block2.8.weight torch.Size([358]) torch.Size([512])\n",
      "module.fcos_body.backbone.block2.8.bias torch.Size([358]) torch.Size([512])\n",
      "module.fcos_body.backbone.block2.8.running_mean torch.Size([358]) torch.Size([512])\n",
      "module.fcos_body.backbone.block2.8.running_var torch.Size([358]) torch.Size([512])\n",
      "module.fcos_body.backbone.block2.10.weight torch.Size([179, 358, 1, 1]) torch.Size([256, 512, 1, 1])\n",
      "module.fcos_body.backbone.block2.11.weight torch.Size([179]) torch.Size([256])\n",
      "module.fcos_body.backbone.block2.11.bias torch.Size([179]) torch.Size([256])\n",
      "module.fcos_body.backbone.block2.11.running_mean torch.Size([179]) torch.Size([256])\n",
      "module.fcos_body.backbone.block2.11.running_var torch.Size([179]) torch.Size([256])\n",
      "module.fcos_body.backbone.block2.13.weight torch.Size([358, 179, 3, 3]) torch.Size([512, 256, 3, 3])\n",
      "module.fcos_body.backbone.block2.14.weight torch.Size([358]) torch.Size([512])\n",
      "module.fcos_body.backbone.block2.14.bias torch.Size([358]) torch.Size([512])\n",
      "module.fcos_body.backbone.block2.14.running_mean torch.Size([358]) torch.Size([512])\n",
      "module.fcos_body.backbone.block2.14.running_var torch.Size([358]) torch.Size([512])\n",
      "module.fcos_body.backbone.block3.1.weight torch.Size([717, 358, 3, 3]) torch.Size([1024, 512, 3, 3])\n",
      "module.fcos_body.backbone.block3.2.weight torch.Size([717]) torch.Size([1024])\n",
      "module.fcos_body.backbone.block3.2.bias torch.Size([717]) torch.Size([1024])\n",
      "module.fcos_body.backbone.block3.2.running_mean torch.Size([717]) torch.Size([1024])\n",
      "module.fcos_body.backbone.block3.2.running_var torch.Size([717]) torch.Size([1024])\n",
      "module.fcos_body.backbone.block3.4.weight torch.Size([358, 717, 1, 1]) torch.Size([512, 1024, 1, 1])\n",
      "module.fcos_body.backbone.block3.5.weight torch.Size([358]) torch.Size([512])\n",
      "module.fcos_body.backbone.block3.5.bias torch.Size([358]) torch.Size([512])\n",
      "module.fcos_body.backbone.block3.5.running_mean torch.Size([358]) torch.Size([512])\n",
      "module.fcos_body.backbone.block3.5.running_var torch.Size([358]) torch.Size([512])\n",
      "module.fcos_body.backbone.block3.7.weight torch.Size([717, 358, 3, 3]) torch.Size([1024, 512, 3, 3])\n",
      "module.fcos_body.backbone.block3.8.weight torch.Size([717]) torch.Size([1024])\n",
      "module.fcos_body.backbone.block3.8.bias torch.Size([717]) torch.Size([1024])\n",
      "module.fcos_body.backbone.block3.8.running_mean torch.Size([717]) torch.Size([1024])\n",
      "module.fcos_body.backbone.block3.8.running_var torch.Size([717]) torch.Size([1024])\n",
      "module.fcos_body.backbone.block3.10.weight torch.Size([358, 717, 1, 1]) torch.Size([512, 1024, 1, 1])\n",
      "module.fcos_body.backbone.block3.11.weight torch.Size([358]) torch.Size([512])\n",
      "module.fcos_body.backbone.block3.11.bias torch.Size([358]) torch.Size([512])\n",
      "module.fcos_body.backbone.block3.11.running_mean torch.Size([358]) torch.Size([512])\n",
      "module.fcos_body.backbone.block3.11.running_var torch.Size([358]) torch.Size([512])\n",
      "module.fcos_body.backbone.block3.13.weight torch.Size([717, 358, 3, 3]) torch.Size([1024, 512, 3, 3])\n",
      "module.fcos_body.backbone.block3.14.weight torch.Size([717]) torch.Size([1024])\n",
      "module.fcos_body.backbone.block3.14.bias torch.Size([717]) torch.Size([1024])\n",
      "module.fcos_body.backbone.block3.14.running_mean torch.Size([717]) torch.Size([1024])\n",
      "module.fcos_body.backbone.block3.14.running_var torch.Size([717]) torch.Size([1024])\n",
      "module.fcos_body.fpn.prj_5.weight torch.Size([256, 717, 1, 1]) torch.Size([256, 1024, 1, 1])\n",
      "module.fcos_body.fpn.prj_5.bias torch.Size([256]) torch.Size([256])\n",
      "module.fcos_body.fpn.prj_4.weight torch.Size([256, 358, 1, 1]) torch.Size([256, 512, 1, 1])\n",
      "module.fcos_body.fpn.prj_4.bias torch.Size([256]) torch.Size([256])\n",
      "module.fcos_body.fpn.prj_3.weight torch.Size([256, 179, 1, 1]) torch.Size([256, 256, 1, 1])\n",
      "module.fcos_body.fpn.prj_3.bias torch.Size([256]) torch.Size([256])\n",
      "module.fcos_body.fpn.conv_5.weight torch.Size([256, 256, 3, 3]) torch.Size([256, 256, 3, 3])\n",
      "module.fcos_body.fpn.conv_5.bias torch.Size([256]) torch.Size([256])\n",
      "module.fcos_body.fpn.conv_4.weight torch.Size([256, 256, 3, 3]) torch.Size([256, 256, 3, 3])\n",
      "module.fcos_body.fpn.conv_4.bias torch.Size([256]) torch.Size([256])\n",
      "module.fcos_body.fpn.conv_3.weight torch.Size([256, 256, 3, 3]) torch.Size([256, 256, 3, 3])\n",
      "module.fcos_body.fpn.conv_3.bias torch.Size([256]) torch.Size([256])\n",
      "module.fcos_body.fpn.conv_out6.weight torch.Size([256, 256, 3, 3]) torch.Size([256, 256, 3, 3])\n",
      "module.fcos_body.fpn.conv_out6.bias torch.Size([256]) torch.Size([256])\n",
      "module.fcos_body.fpn.conv_out7.weight torch.Size([256, 256, 3, 3]) torch.Size([256, 256, 3, 3])\n",
      "module.fcos_body.fpn.conv_out7.bias torch.Size([256]) torch.Size([256])\n",
      "module.fcos_body.head.cls_conv.0.weight torch.Size([256, 256, 3, 3]) torch.Size([256, 256, 3, 3])\n",
      "module.fcos_body.head.cls_conv.0.bias torch.Size([256]) torch.Size([256])\n",
      "module.fcos_body.head.cls_conv.1.weight torch.Size([256]) torch.Size([256])\n",
      "module.fcos_body.head.cls_conv.1.bias torch.Size([256]) torch.Size([256])\n",
      "module.fcos_body.head.cls_conv.3.weight torch.Size([256, 256, 3, 3]) torch.Size([256, 256, 3, 3])\n",
      "module.fcos_body.head.cls_conv.3.bias torch.Size([256]) torch.Size([256])\n",
      "module.fcos_body.head.cls_conv.4.weight torch.Size([256]) torch.Size([256])\n",
      "module.fcos_body.head.cls_conv.4.bias torch.Size([256]) torch.Size([256])\n",
      "module.fcos_body.head.cls_conv.6.weight torch.Size([256, 256, 3, 3]) torch.Size([256, 256, 3, 3])\n",
      "module.fcos_body.head.cls_conv.6.bias torch.Size([256]) torch.Size([256])\n",
      "module.fcos_body.head.cls_conv.7.weight torch.Size([256]) torch.Size([256])\n",
      "module.fcos_body.head.cls_conv.7.bias torch.Size([256]) torch.Size([256])\n",
      "module.fcos_body.head.cls_conv.9.weight torch.Size([256, 256, 3, 3]) torch.Size([256, 256, 3, 3])\n",
      "module.fcos_body.head.cls_conv.9.bias torch.Size([256]) torch.Size([256])\n",
      "module.fcos_body.head.cls_conv.10.weight torch.Size([256]) torch.Size([256])\n",
      "module.fcos_body.head.cls_conv.10.bias torch.Size([256]) torch.Size([256])\n",
      "module.fcos_body.head.reg_conv.0.weight torch.Size([256, 256, 3, 3]) torch.Size([256, 256, 3, 3])\n",
      "module.fcos_body.head.reg_conv.0.bias torch.Size([256]) torch.Size([256])\n",
      "module.fcos_body.head.reg_conv.1.weight torch.Size([256]) torch.Size([256])\n",
      "module.fcos_body.head.reg_conv.1.bias torch.Size([256]) torch.Size([256])\n",
      "module.fcos_body.head.reg_conv.3.weight torch.Size([256, 256, 3, 3]) torch.Size([256, 256, 3, 3])\n",
      "module.fcos_body.head.reg_conv.3.bias torch.Size([256]) torch.Size([256])\n",
      "module.fcos_body.head.reg_conv.4.weight torch.Size([256]) torch.Size([256])\n",
      "module.fcos_body.head.reg_conv.4.bias torch.Size([256]) torch.Size([256])\n",
      "module.fcos_body.head.reg_conv.6.weight torch.Size([256, 256, 3, 3]) torch.Size([256, 256, 3, 3])\n",
      "module.fcos_body.head.reg_conv.6.bias torch.Size([256]) torch.Size([256])\n",
      "module.fcos_body.head.reg_conv.7.weight torch.Size([256]) torch.Size([256])\n",
      "module.fcos_body.head.reg_conv.7.bias torch.Size([256]) torch.Size([256])\n",
      "module.fcos_body.head.reg_conv.9.weight torch.Size([256, 256, 3, 3]) torch.Size([256, 256, 3, 3])\n",
      "module.fcos_body.head.reg_conv.9.bias torch.Size([256]) torch.Size([256])\n",
      "module.fcos_body.head.reg_conv.10.weight torch.Size([256]) torch.Size([256])\n",
      "module.fcos_body.head.reg_conv.10.bias torch.Size([256]) torch.Size([256])\n",
      "module.fcos_body.head.cls_logits.weight torch.Size([20, 256, 3, 3]) torch.Size([20, 256, 3, 3])\n",
      "module.fcos_body.head.cls_logits.bias torch.Size([20]) torch.Size([20])\n",
      "module.fcos_body.head.cnt_logits.weight torch.Size([1, 256, 3, 3]) torch.Size([1, 256, 3, 3])\n",
      "module.fcos_body.head.cnt_logits.bias torch.Size([1]) torch.Size([1])\n",
      "module.fcos_body.head.reg_pred.weight torch.Size([4, 256, 3, 3]) torch.Size([4, 256, 3, 3])\n",
      "module.fcos_body.head.reg_pred.bias torch.Size([4]) torch.Size([4])\n",
      "module.fcos_body.head.scale_exp.0.scale torch.Size([1]) torch.Size([1])\n",
      "module.fcos_body.head.scale_exp.1.scale torch.Size([1]) torch.Size([1])\n",
      "module.fcos_body.head.scale_exp.2.scale torch.Size([1]) torch.Size([1])\n",
      "module.fcos_body.head.scale_exp.3.scale torch.Size([1]) torch.Size([1])\n",
      "module.fcos_body.head.scale_exp.4.scale torch.Size([1]) torch.Size([1])\n"
     ]
    }
   ],
   "source": [
    "# 查看剪枝后的模型各层输出channel数\n",
    "for k,v in pruned_model.items():\n",
    "    if len(v.shape)>0:\n",
    "        print(k, v.shape, pretrained_model[k].shape)"
   ]
  },
  {
   "cell_type": "code",
   "execution_count": 9,
   "metadata": {},
   "outputs": [
    {
     "data": {
      "image/png": "[encoded data removed]",
      "text/plain": [
       "<Figure size 432x288 with 1 Axes>"
      ]
     },
     "metadata": {},
     "output_type": "display_data"
    }
   ],
   "source": [
    "# 观察砍后的gamma的分布，对比砍前的gamma分布可以发现明显变化\n",
    "gammas = []\n",
    "for k,v in pruned_model.items():\n",
    "    if 'running_mean' in k:\n",
    "        bn_gamma_name = k[:-13] + '.weight'\n",
    "        _gamma = pruned_model[bn_gamma_name].numpy()\n",
    "        gammas.append(_gamma)\n",
    "        \n",
    "gammas = np.concatenate(gammas)\n",
    "plt.hist(gammas, bins=500)\n",
    "plt.show()"
   ]
  },
  {
   "cell_type": "code",
   "execution_count": 10,
   "metadata": {},
   "outputs": [],
   "source": [
    "torch.save(pruned_model, 'darknet19_prune30_lasso5e_1.pth')"
   ]
  },
  {
   "cell_type": "code",
   "execution_count": null,
   "metadata": {},
   "outputs": [],
   "source": []
  }
 ],
 "metadata": {
  "kernelspec": {
   "display_name": "Python 3",
   "language": "python",
   "name": "python3"
  },
  "language_info": {
   "codemirror_mode": {
    "name": "ipython",
    "version": 3
   },
   "file_extension": ".py",
   "mimetype": "text/x-python",
   "name": "python",
   "nbconvert_exporter": "python",
   "pygments_lexer": "ipython3",
   "version": "3.6.5"
  }
 },
 "nbformat": 4,
 "nbformat_minor": 2
}
